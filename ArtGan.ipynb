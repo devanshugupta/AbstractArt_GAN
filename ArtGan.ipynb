{
  "nbformat": 4,
  "nbformat_minor": 0,
  "metadata": {
    "colab": {
      "name": "ArtGan.ipynb",
      "provenance": [],
      "authorship_tag": "ABX9TyOEA6uC033189YqiBPPYfIs",
      "include_colab_link": true
    },
    "kernelspec": {
      "name": "python3",
      "display_name": "Python 3"
    },
    "accelerator": "GPU"
  },
  "cells": [
    {
      "cell_type": "markdown",
      "metadata": {
        "id": "view-in-github",
        "colab_type": "text"
      },
      "source": [
        "<a href=\"https://colab.research.google.com/github/devanshugupta/AbstractArt_GAN/blob/main/ArtGan.ipynb\" target=\"_parent\"><img src=\"https://colab.research.google.com/assets/colab-badge.svg\" alt=\"Open In Colab\"/></a>"
      ]
    },
    {
      "cell_type": "code",
      "metadata": {
        "id": "_bUZb7Lk_QRR"
      },
      "source": [
        ""
      ],
      "execution_count": null,
      "outputs": []
    },
    {
      "cell_type": "code",
      "metadata": {
        "colab": {
          "base_uri": "https://localhost:8080/"
        },
        "id": "p6rciqGdF-Z8",
        "outputId": "4232d96e-e76a-46ed-b78e-1b581d34f265"
      },
      "source": [
        "#!wget web.fsktm.um.edu.my/~cschan/source/ICIP2017/wikiart.zip"
      ],
      "execution_count": null,
      "outputs": [
        {
          "output_type": "stream",
          "text": [
            "--2021-02-18 17:17:00--  http://web.fsktm.um.edu.my/~cschan/source/ICIP2017/wikiart.zip\n",
            "Resolving web.fsktm.um.edu.my (web.fsktm.um.edu.my)... 103.18.2.145\n",
            "Connecting to web.fsktm.um.edu.my (web.fsktm.um.edu.my)|103.18.2.145|:80... connected.\n",
            "HTTP request sent, awaiting response... 200 OK\n",
            "Length: 27301958850 (25G) [application/zip]\n",
            "Saving to: ‘wikiart.zip’\n",
            "\n",
            "wikiart.zip         100%[===================>]  25.43G  7.48MB/s    in 61m 19s \n",
            "\n",
            "2021-02-18 18:18:19 (7.08 MB/s) - ‘wikiart.zip’ saved [27301958850/27301958850]\n",
            "\n"
          ],
          "name": "stdout"
        }
      ]
    },
    {
      "cell_type": "code",
      "metadata": {
        "id": "eao-fD9lLXZL"
      },
      "source": [
        "#!unzip wikiart.zip"
      ],
      "execution_count": null,
      "outputs": []
    },
    {
      "cell_type": "code",
      "metadata": {
        "colab": {
          "base_uri": "https://localhost:8080/"
        },
        "id": "DhMKzXbBZ21B",
        "outputId": "29736015-ee53-4b2d-efb6-f2b9620d268f"
      },
      "source": [
        "from google.colab import drive\n",
        "drive.mount('/content/drive')"
      ],
      "execution_count": null,
      "outputs": [
        {
          "output_type": "stream",
          "text": [
            "Mounted at /content/drive\n"
          ],
          "name": "stdout"
        }
      ]
    },
    {
      "cell_type": "code",
      "metadata": {
        "id": "s5bmt1EXafsd"
      },
      "source": [
        "#!cp -r /content/wikiart/Cubism /content/drive/MyDrive/dataset"
      ],
      "execution_count": null,
      "outputs": []
    },
    {
      "cell_type": "code",
      "metadata": {
        "colab": {
          "base_uri": "https://localhost:8080/"
        },
        "id": "urCcS_PZhv0O",
        "outputId": "c2aebb77-906a-4236-cc45-062fe8973d40"
      },
      "source": [
        "!ls /content/drive/MyDrive/wikiart/High_Renaissance | wc -l\r\n"
      ],
      "execution_count": null,
      "outputs": [
        {
          "output_type": "stream",
          "text": [
            "1343\n"
          ],
          "name": "stdout"
        }
      ]
    },
    {
      "cell_type": "code",
      "metadata": {
        "id": "DmXOf0qt6avU"
      },
      "source": [
        "## image_resizer.py\r\n",
        "# Importing required libraries\r\n",
        "import os\r\n",
        "import numpy as np\r\n",
        "from PIL import Image\r\n",
        "\r\n",
        "# Defining an image size and image channel\r\n",
        "# We are going to resize all our images to 128X128 size and since our images are colored images\r\n",
        "# We are setting our image channels to 3 (RGB)\r\n",
        "\r\n",
        "IMAGE_SIZE = 128\r\n",
        "IMAGE_CHANNELS = 3\r\n",
        "IMAGE_DIR = '/content/drive/MyDrive/wikiart/Minimalism'\r\n",
        "# Defining image dir path. Change this if you have different directory\r\n",
        "images_path = IMAGE_DIR \r\n",
        "\r\n",
        "training_data = []\r\n",
        "print('resizing...')\r\n",
        "\r\n",
        "for file in [,'/content/drive/MyDrive/wikiart/Cubism','/content/drive/MyDrive/wikiart/High_Renaissance']:\r\n",
        "    count=0\r\n",
        "    for filename in os.listdir(file):\r\n",
        "        path = os.path.join(file, filename)\r\n",
        "        image = Image.open(path).resize((IMAGE_SIZE, IMAGE_SIZE), Image.ANTIALIAS)\r\n",
        "\r\n",
        "        training_data.append(np.asarray(image))\r\n",
        "        count+=1\r\n",
        "        print(count,end=',')\r\n",
        "    print('')\r\n",
        "training_data = np.reshape(\r\n",
        "    training_data, (-1, IMAGE_SIZE, IMAGE_SIZE, IMAGE_CHANNELS))\r\n",
        "training_data = training_data / 127.5 - 1\r\n",
        "    \r\n",
        "print('saving file...')\r\n",
        "np.save('MCH_data.npy', training_data)"
      ],
      "execution_count": null,
      "outputs": []
    },
    {
      "cell_type": "code",
      "metadata": {
        "id": "dY9SB5hgF-Bl"
      },
      "source": [
        ""
      ],
      "execution_count": null,
      "outputs": []
    },
    {
      "cell_type": "code",
      "metadata": {
        "id": "fExR6FeZG7Mb"
      },
      "source": [
        "!cp -r /content/MCH_data.npy /content/drive/MyDrive/"
      ],
      "execution_count": null,
      "outputs": []
    },
    {
      "cell_type": "code",
      "metadata": {
        "id": "pEejluMP899S"
      },
      "source": [
        "from keras.layers import Input, Reshape, Dropout, Dense, Flatten, BatchNormalization, Activation, ZeroPadding2D\r\n",
        "from keras.layers.advanced_activations import LeakyReLU\r\n",
        "from keras.layers.convolutional import UpSampling2D, Conv2D\r\n",
        "from keras.models import Sequential, Model, load_model\r\n",
        "from keras.optimizers import Adam\r\n",
        "import numpy as np\r\n",
        "from PIL import Image\r\n",
        "import os\r\n",
        "import pickle"
      ],
      "execution_count": null,
      "outputs": []
    },
    {
      "cell_type": "code",
      "metadata": {
        "id": "kqG7R5W-89-a"
      },
      "source": [
        "# Preview image Frame\r\n",
        "PREVIEW_ROWS = 4\r\n",
        "PREVIEW_COLS = 7\r\n",
        "PREVIEW_MARGIN = 4\r\n",
        "SAVE_FREQ = 100\r\n",
        "# Size vector to generate images from\r\n",
        "NOISE_SIZE = 100\r\n",
        "# Configuration\r\n",
        "EPOCHS = 10000 # number of iterations\r\n",
        "BATCH_SIZE = 32\r\n",
        "GENERATE_RES = 3\r\n",
        "IMAGE_SIZE = 128 # rows/cols\r\n",
        "IMAGE_CHANNELS = 3"
      ],
      "execution_count": null,
      "outputs": []
    },
    {
      "cell_type": "code",
      "metadata": {
        "id": "35b4MQGp8-Bw"
      },
      "source": [
        "training_data = np.load('/content/drive/MyDrive/MCH_data.npy')"
      ],
      "execution_count": null,
      "outputs": []
    },
    {
      "cell_type": "code",
      "metadata": {
        "colab": {
          "base_uri": "https://localhost:8080/"
        },
        "id": "okE5fo-VLSVI",
        "outputId": "7e046766-c60b-4981-de56-a67c3c91960a"
      },
      "source": [
        "training_data.shape"
      ],
      "execution_count": null,
      "outputs": [
        {
          "output_type": "execute_result",
          "data": {
            "text/plain": [
              "(4915, 128, 128, 3)"
            ]
          },
          "metadata": {
            "tags": []
          },
          "execution_count": 5
        }
      ]
    },
    {
      "cell_type": "code",
      "metadata": {
        "id": "f_iRMyBr9Vrp"
      },
      "source": [
        "def build_discriminator(image_shape):\r\n",
        "    model = Sequential()\r\n",
        "    model.add(Conv2D(32, kernel_size=3, strides=2,input_shape=image_shape, padding='same'))\r\n",
        "    model.add(LeakyReLU(alpha=0.2))\r\n",
        "    model.add(Dropout(0.25))\r\n",
        "    model.add(Conv2D(64, kernel_size=3, strides=2, padding='same'))\r\n",
        "    model.add(ZeroPadding2D(padding=((0, 1), (0, 1))))\r\n",
        "    model.add(BatchNormalization(momentum=0.8))\r\n",
        "    model.add(LeakyReLU(alpha=0.2))\r\n",
        "    model.add(Dropout(0.25))\r\n",
        "    model.add(Conv2D(128, kernel_size=3, strides=2, padding='same'))\r\n",
        "    model.add(BatchNormalization(momentum=0.8))\r\n",
        "    model.add(LeakyReLU(alpha=0.2))\r\n",
        "    model.add(Dropout(0.25))\r\n",
        "    model.add(Conv2D(256, kernel_size=3, strides=1, padding='same'))\r\n",
        "    model.add(BatchNormalization(momentum=0.8))\r\n",
        "    model.add(LeakyReLU(alpha=0.2))\r\n",
        "    model.add(Dropout(0.25))\r\n",
        "    model.add(Conv2D(512, kernel_size=3, strides=1, padding='same'))\r\n",
        "    model.add(BatchNormalization(momentum=0.8))\r\n",
        "    model.add(LeakyReLU(alpha=0.2))\r\n",
        "    model.add(Dropout(0.25))\r\n",
        "    model.add(Flatten())\r\n",
        "    model.add(Dense(1, activation='sigmoid'))\r\n",
        "    input_image = Input(shape=image_shape)\r\n",
        "    validity = model(input_image)\r\n",
        "    return Model(input_image, validity)"
      ],
      "execution_count": null,
      "outputs": []
    },
    {
      "cell_type": "code",
      "metadata": {
        "id": "ypM3p4Cl9i6D"
      },
      "source": [
        "def build_generator(noise_size, channels):\r\n",
        "    model = Sequential()\r\n",
        "    model.add(Dense(4 * 4 * 256, activation='relu', input_dim=noise_size))\r\n",
        "    model.add(Reshape((4, 4, 256)))\r\n",
        "    model.add(UpSampling2D())\r\n",
        "    model.add(Conv2D(256, kernel_size=3, padding='same'))\r\n",
        "    model.add(BatchNormalization(momentum=0.8))\r\n",
        "    model.add(Activation('relu'))\r\n",
        "    model.add(UpSampling2D())\r\n",
        "    model.add(Conv2D(256, kernel_size=3, padding='same'))\r\n",
        "    model.add(BatchNormalization(momentum=0.8))\r\n",
        "    model.add(Activation('relu'))\r\n",
        "    for i in range(GENERATE_RES):\r\n",
        "        model.add(UpSampling2D())\r\n",
        "        model.add(Conv2D(256, kernel_size=3, padding='same'))\r\n",
        "        model.add(BatchNormalization(momentum=0.8))\r\n",
        "        model.add(Activation('relu'))\r\n",
        "    model.summary()\r\n",
        "    model.add(Conv2D(channels, kernel_size=3, padding='same'))\r\n",
        "    model.add(Activation('tanh'))\r\n",
        "    input = Input(shape=(noise_size,))\r\n",
        "    generated_image = model(input)\r\n",
        "    \r\n",
        "    return Model(input, generated_image)"
      ],
      "execution_count": null,
      "outputs": []
    },
    {
      "cell_type": "code",
      "metadata": {
        "id": "whHMDxOZ92_e"
      },
      "source": [
        "def save_images(cnt, noise):\r\n",
        "    image_array = np.full((PREVIEW_MARGIN + (PREVIEW_ROWS * (IMAGE_SIZE + PREVIEW_MARGIN)),\r\n",
        "        PREVIEW_MARGIN + (PREVIEW_COLS * (IMAGE_SIZE + PREVIEW_MARGIN)), 3),\r\n",
        "        255, dtype=np.uint8)\r\n",
        "    generated_images = generator.predict(noise)\r\n",
        "    generated_images = 0.5 * generated_images + 0.5\r\n",
        "    image_count = 0\r\n",
        "    for row in range(PREVIEW_ROWS):\r\n",
        "        for col in range(PREVIEW_COLS):\r\n",
        "            r = row * (IMAGE_SIZE + PREVIEW_MARGIN) + PREVIEW_MARGIN\r\n",
        "            c = col * (IMAGE_SIZE + PREVIEW_MARGIN) + PREVIEW_MARGIN\r\n",
        "            image_array[r:r + IMAGE_SIZE, c:c +\r\n",
        "                        IMAGE_SIZE] = generated_images[image_count] * 255\r\n",
        "            image_count += 1\r\n",
        "    output_path = 'outputAll'\r\n",
        "    if not os.path.exists(output_path):\r\n",
        "        os.makedirs(output_path)\r\n",
        "    filename = os.path.join(output_path, f\"trained-{cnt}.png\")\r\n",
        "    im = Image.fromarray(image_array)\r\n",
        "    im.save(filename)"
      ],
      "execution_count": null,
      "outputs": []
    },
    {
      "cell_type": "code",
      "metadata": {
        "id": "3n8ti1zM-Are",
        "colab": {
          "base_uri": "https://localhost:8080/"
        },
        "outputId": "7538e1cd-9ea6-499e-bb9a-13d016080cbf"
      },
      "source": [
        "image_shape = (IMAGE_SIZE, IMAGE_SIZE, IMAGE_CHANNELS)\r\n",
        "optimizer = Adam(1.5e-4, 0.5)\r\n",
        "discriminator = build_discriminator(image_shape)\r\n",
        "discriminator.compile(loss='binary_crossentropy',optimizer=optimizer, metrics=['accuracy'])\r\n",
        "generator = build_generator(NOISE_SIZE, IMAGE_CHANNELS)\r\n",
        "random_input = Input(shape=(NOISE_SIZE,))\r\n",
        "generated_image = generator(random_input)\r\n",
        "discriminator.trainable = False\r\n",
        "validity = discriminator(generated_image)\r\n",
        "combined = Model(random_input, validity)\r\n",
        "combined.compile(loss='binary_crossentropy',optimizer=optimizer, metrics=['accuracy'])\r\n",
        "y_real = np.ones((BATCH_SIZE, 1))\r\n",
        "y_fake = np.zeros((BATCH_SIZE, 1))\r\n",
        "fixed_noise = np.random.normal(0, 1, (PREVIEW_ROWS * PREVIEW_COLS, NOISE_SIZE))\r\n",
        "cnt = 1\r\n",
        "for epoch in range(EPOCHS):\r\n",
        "    idx = np.random.randint(0, training_data.shape[0], BATCH_SIZE)\r\n",
        "    x_real = training_data[idx]\r\n",
        "    \r\n",
        "    noise= np.random.normal(0, 1, (BATCH_SIZE, NOISE_SIZE))\r\n",
        "    x_fake = generator.predict(noise)\r\n",
        "    discriminator_metric_real = discriminator.train_on_batch(x_real, y_real)\r\n",
        "    discriminator_metric_generated = discriminator.train_on_batch(x_fake, y_fake)\r\n",
        "    \r\n",
        "    discriminator_metric = 0.5 * np.add(discriminator_metric_real, discriminator_metric_generated)\r\n",
        "    \r\n",
        "    generator_metric = combined.train_on_batch(noise, y_real)\r\n",
        "    if epoch % SAVE_FREQ == 0:\r\n",
        "        save_images(cnt, fixed_noise)\r\n",
        "        cnt += 1\r\n",
        "        print(epoch,'epoch', 'Discriminator accuracy:', 100*  discriminator_metric[1], \r\n",
        "        'Generator accuracy:', 100 * generator_metric[1])"
      ],
      "execution_count": null,
      "outputs": [
        {
          "output_type": "stream",
          "text": [
            "Model: \"sequential_13\"\n",
            "_________________________________________________________________\n",
            "Layer (type)                 Output Shape              Param #   \n",
            "=================================================================\n",
            "dense_13 (Dense)             (None, 4096)              413696    \n",
            "_________________________________________________________________\n",
            "reshape_6 (Reshape)          (None, 4, 4, 256)         0         \n",
            "_________________________________________________________________\n",
            "up_sampling2d_34 (UpSampling (None, 8, 8, 256)         0         \n",
            "_________________________________________________________________\n",
            "conv2d_75 (Conv2D)           (None, 8, 8, 256)         590080    \n",
            "_________________________________________________________________\n",
            "batch_normalization_62 (Batc (None, 8, 8, 256)         1024      \n",
            "_________________________________________________________________\n",
            "activation_40 (Activation)   (None, 8, 8, 256)         0         \n",
            "_________________________________________________________________\n",
            "up_sampling2d_35 (UpSampling (None, 16, 16, 256)       0         \n",
            "_________________________________________________________________\n",
            "conv2d_76 (Conv2D)           (None, 16, 16, 256)       590080    \n",
            "_________________________________________________________________\n",
            "batch_normalization_63 (Batc (None, 16, 16, 256)       1024      \n",
            "_________________________________________________________________\n",
            "activation_41 (Activation)   (None, 16, 16, 256)       0         \n",
            "_________________________________________________________________\n",
            "up_sampling2d_36 (UpSampling (None, 32, 32, 256)       0         \n",
            "_________________________________________________________________\n",
            "conv2d_77 (Conv2D)           (None, 32, 32, 256)       590080    \n",
            "_________________________________________________________________\n",
            "batch_normalization_64 (Batc (None, 32, 32, 256)       1024      \n",
            "_________________________________________________________________\n",
            "activation_42 (Activation)   (None, 32, 32, 256)       0         \n",
            "_________________________________________________________________\n",
            "up_sampling2d_37 (UpSampling (None, 64, 64, 256)       0         \n",
            "_________________________________________________________________\n",
            "conv2d_78 (Conv2D)           (None, 64, 64, 256)       590080    \n",
            "_________________________________________________________________\n",
            "batch_normalization_65 (Batc (None, 64, 64, 256)       1024      \n",
            "_________________________________________________________________\n",
            "activation_43 (Activation)   (None, 64, 64, 256)       0         \n",
            "_________________________________________________________________\n",
            "up_sampling2d_38 (UpSampling (None, 128, 128, 256)     0         \n",
            "_________________________________________________________________\n",
            "conv2d_79 (Conv2D)           (None, 128, 128, 256)     590080    \n",
            "_________________________________________________________________\n",
            "batch_normalization_66 (Batc (None, 128, 128, 256)     1024      \n",
            "_________________________________________________________________\n",
            "activation_44 (Activation)   (None, 128, 128, 256)     0         \n",
            "=================================================================\n",
            "Total params: 3,369,216\n",
            "Trainable params: 3,366,656\n",
            "Non-trainable params: 2,560\n",
            "_________________________________________________________________\n",
            "0 epoch Discriminator accuracy: 26.5625 Generator accuracy: 100.0\n",
            "100 epoch Discriminator accuracy: 18.75 Generator accuracy: 28.125\n",
            "200 epoch Discriminator accuracy: 18.75 Generator accuracy: 65.625\n",
            "300 epoch Discriminator accuracy: 70.3125 Generator accuracy: 96.875\n",
            "400 epoch Discriminator accuracy: 64.0625 Generator accuracy: 56.25\n",
            "500 epoch Discriminator accuracy: 32.8125 Generator accuracy: 46.875\n",
            "600 epoch Discriminator accuracy: 42.1875 Generator accuracy: 56.25\n",
            "700 epoch Discriminator accuracy: 39.0625 Generator accuracy: 59.375\n",
            "800 epoch Discriminator accuracy: 50.0 Generator accuracy: 56.25\n",
            "900 epoch Discriminator accuracy: 42.1875 Generator accuracy: 50.0\n",
            "1000 epoch Discriminator accuracy: 46.875 Generator accuracy: 50.0\n",
            "1100 epoch Discriminator accuracy: 50.0 Generator accuracy: 37.5\n",
            "1200 epoch Discriminator accuracy: 53.125 Generator accuracy: 25.0\n",
            "1300 epoch Discriminator accuracy: 40.625 Generator accuracy: 6.25\n",
            "1400 epoch Discriminator accuracy: 46.875 Generator accuracy: 50.0\n",
            "1500 epoch Discriminator accuracy: 39.0625 Generator accuracy: 18.75\n",
            "1600 epoch Discriminator accuracy: 48.4375 Generator accuracy: 90.625\n",
            "1700 epoch Discriminator accuracy: 50.0 Generator accuracy: 87.5\n",
            "1800 epoch Discriminator accuracy: 48.4375 Generator accuracy: 78.125\n",
            "1900 epoch Discriminator accuracy: 45.3125 Generator accuracy: 78.125\n",
            "2000 epoch Discriminator accuracy: 50.0 Generator accuracy: 100.0\n",
            "2100 epoch Discriminator accuracy: 50.0 Generator accuracy: 96.875\n",
            "2200 epoch Discriminator accuracy: 46.875 Generator accuracy: 87.5\n",
            "2300 epoch Discriminator accuracy: 48.4375 Generator accuracy: 93.75\n",
            "2400 epoch Discriminator accuracy: 50.0 Generator accuracy: 84.375\n",
            "2500 epoch Discriminator accuracy: 51.5625 Generator accuracy: 84.375\n",
            "2600 epoch Discriminator accuracy: 45.3125 Generator accuracy: 87.5\n",
            "2700 epoch Discriminator accuracy: 62.5 Generator accuracy: 81.25\n",
            "2800 epoch Discriminator accuracy: 50.0 Generator accuracy: 62.5\n",
            "2900 epoch Discriminator accuracy: 48.4375 Generator accuracy: 71.875\n",
            "3000 epoch Discriminator accuracy: 89.0625 Generator accuracy: 93.75\n",
            "3100 epoch Discriminator accuracy: 45.3125 Generator accuracy: 100.0\n",
            "3200 epoch Discriminator accuracy: 39.0625 Generator accuracy: 87.5\n",
            "3300 epoch Discriminator accuracy: 50.0 Generator accuracy: 93.75\n",
            "3400 epoch Discriminator accuracy: 51.5625 Generator accuracy: 90.625\n",
            "3500 epoch Discriminator accuracy: 46.875 Generator accuracy: 87.5\n",
            "3600 epoch Discriminator accuracy: 51.5625 Generator accuracy: 87.5\n",
            "3700 epoch Discriminator accuracy: 50.0 Generator accuracy: 93.75\n",
            "3800 epoch Discriminator accuracy: 48.4375 Generator accuracy: 93.75\n",
            "3900 epoch Discriminator accuracy: 51.5625 Generator accuracy: 90.625\n",
            "4000 epoch Discriminator accuracy: 50.0 Generator accuracy: 96.875\n",
            "4100 epoch Discriminator accuracy: 65.625 Generator accuracy: 90.625\n",
            "4200 epoch Discriminator accuracy: 50.0 Generator accuracy: 87.5\n",
            "4300 epoch Discriminator accuracy: 48.4375 Generator accuracy: 87.5\n",
            "4400 epoch Discriminator accuracy: 28.125 Generator accuracy: 100.0\n",
            "4500 epoch Discriminator accuracy: 46.875 Generator accuracy: 96.875\n",
            "4600 epoch Discriminator accuracy: 56.25 Generator accuracy: 87.5\n",
            "4700 epoch Discriminator accuracy: 51.5625 Generator accuracy: 90.625\n",
            "4800 epoch Discriminator accuracy: 42.1875 Generator accuracy: 90.625\n",
            "4900 epoch Discriminator accuracy: 54.6875 Generator accuracy: 90.625\n",
            "5000 epoch Discriminator accuracy: 17.1875 Generator accuracy: 100.0\n",
            "5100 epoch Discriminator accuracy: 46.875 Generator accuracy: 90.625\n",
            "5200 epoch Discriminator accuracy: 89.0625 Generator accuracy: 90.625\n",
            "5300 epoch Discriminator accuracy: 45.3125 Generator accuracy: 93.75\n",
            "5400 epoch Discriminator accuracy: 45.3125 Generator accuracy: 93.75\n",
            "5500 epoch Discriminator accuracy: 51.5625 Generator accuracy: 90.625\n",
            "5600 epoch Discriminator accuracy: 65.625 Generator accuracy: 90.625\n",
            "5700 epoch Discriminator accuracy: 51.5625 Generator accuracy: 96.875\n",
            "5800 epoch Discriminator accuracy: 48.4375 Generator accuracy: 90.625\n",
            "5900 epoch Discriminator accuracy: 50.0 Generator accuracy: 84.375\n",
            "6000 epoch Discriminator accuracy: 92.1875 Generator accuracy: 93.75\n",
            "6100 epoch Discriminator accuracy: 73.4375 Generator accuracy: 90.625\n",
            "6200 epoch Discriminator accuracy: 48.4375 Generator accuracy: 93.75\n",
            "6300 epoch Discriminator accuracy: 70.3125 Generator accuracy: 90.625\n",
            "6400 epoch Discriminator accuracy: 51.5625 Generator accuracy: 93.75\n",
            "6500 epoch Discriminator accuracy: 96.875 Generator accuracy: 96.875\n",
            "6600 epoch Discriminator accuracy: 51.5625 Generator accuracy: 87.5\n",
            "6700 epoch Discriminator accuracy: 35.9375 Generator accuracy: 93.75\n",
            "6800 epoch Discriminator accuracy: 76.5625 Generator accuracy: 90.625\n",
            "6900 epoch Discriminator accuracy: 46.875 Generator accuracy: 96.875\n",
            "7000 epoch Discriminator accuracy: 37.5 Generator accuracy: 100.0\n",
            "7100 epoch Discriminator accuracy: 48.4375 Generator accuracy: 90.625\n",
            "7200 epoch Discriminator accuracy: 70.3125 Generator accuracy: 90.625\n",
            "7300 epoch Discriminator accuracy: 65.625 Generator accuracy: 96.875\n",
            "7400 epoch Discriminator accuracy: 50.0 Generator accuracy: 84.375\n",
            "7500 epoch Discriminator accuracy: 40.625 Generator accuracy: 100.0\n",
            "7600 epoch Discriminator accuracy: 50.0 Generator accuracy: 93.75\n",
            "7700 epoch Discriminator accuracy: 51.5625 Generator accuracy: 96.875\n",
            "7800 epoch Discriminator accuracy: 59.375 Generator accuracy: 93.75\n",
            "7900 epoch Discriminator accuracy: 46.875 Generator accuracy: 90.625\n",
            "8000 epoch Discriminator accuracy: 64.0625 Generator accuracy: 93.75\n",
            "8100 epoch Discriminator accuracy: 51.5625 Generator accuracy: 87.5\n",
            "8200 epoch Discriminator accuracy: 50.0 Generator accuracy: 96.875\n",
            "8300 epoch Discriminator accuracy: 46.875 Generator accuracy: 87.5\n",
            "8400 epoch Discriminator accuracy: 34.375 Generator accuracy: 90.625\n",
            "8500 epoch Discriminator accuracy: 46.875 Generator accuracy: 84.375\n",
            "8600 epoch Discriminator accuracy: 48.4375 Generator accuracy: 93.75\n",
            "8700 epoch Discriminator accuracy: 73.4375 Generator accuracy: 100.0\n",
            "8800 epoch Discriminator accuracy: 75.0 Generator accuracy: 93.75\n",
            "8900 epoch Discriminator accuracy: 53.125 Generator accuracy: 90.625\n",
            "9000 epoch Discriminator accuracy: 93.75 Generator accuracy: 100.0\n",
            "9100 epoch Discriminator accuracy: 48.4375 Generator accuracy: 96.875\n",
            "9200 epoch Discriminator accuracy: 60.9375 Generator accuracy: 93.75\n",
            "9300 epoch Discriminator accuracy: 29.6875 Generator accuracy: 93.75\n",
            "9400 epoch Discriminator accuracy: 50.0 Generator accuracy: 100.0\n",
            "9500 epoch Discriminator accuracy: 82.8125 Generator accuracy: 100.0\n",
            "9600 epoch Discriminator accuracy: 50.0 Generator accuracy: 96.875\n",
            "9700 epoch Discriminator accuracy: 45.3125 Generator accuracy: 90.625\n",
            "9800 epoch Discriminator accuracy: 98.4375 Generator accuracy: 93.75\n",
            "9900 epoch Discriminator accuracy: 50.0 Generator accuracy: 93.75\n"
          ],
          "name": "stdout"
        }
      ]
    },
    {
      "cell_type": "code",
      "metadata": {
        "id": "Oo2QU6PmTmOl"
      },
      "source": [
        "!cp -r /content/outputAll /content/drive/MyDrive/outputAll"
      ],
      "execution_count": null,
      "outputs": []
    },
    {
      "cell_type": "code",
      "metadata": {
        "id": "KCDfaAPASMEN"
      },
      "source": [
        "discriminator.save('/content/drive/MyDrive/outputAll/discriminator.h5')\r\n",
        "generator.save('/content/drive/MyDrive/outputAll/generator.h5')\r\n",
        "combined.save('/content/drive/MyDrive/outputAll/combined.h5')"
      ],
      "execution_count": null,
      "outputs": []
    },
    {
      "cell_type": "code",
      "metadata": {
        "colab": {
          "base_uri": "https://localhost:8080/"
        },
        "id": "fwt7Fc2q_786",
        "outputId": "30ea346c-334f-4368-b904-3682669dda81"
      },
      "source": [
        "loaded_model = load_model('/content/drive/MyDrive/outputAll/combined.h5')\r\n",
        "result = loaded_model.summary()\r\n",
        "print(result)"
      ],
      "execution_count": null,
      "outputs": [
        {
          "output_type": "stream",
          "text": [
            "WARNING:tensorflow:Error in loading the saved optimizer state. As a result, your model is starting with a freshly initialized optimizer.\n",
            "Model: \"model_14\"\n",
            "_________________________________________________________________\n",
            "Layer (type)                 Output Shape              Param #   \n",
            "=================================================================\n",
            "input_15 (InputLayer)        [(None, 100)]             0         \n",
            "_________________________________________________________________\n",
            "model_13 (Functional)        (None, 128, 128, 3)       3376131   \n",
            "_________________________________________________________________\n",
            "model_12 (Functional)        (None, 1)                 1720385   \n",
            "=================================================================\n",
            "Total params: 5,096,516\n",
            "Trainable params: 5,092,036\n",
            "Non-trainable params: 4,480\n",
            "_________________________________________________________________\n",
            "None\n"
          ],
          "name": "stdout"
        }
      ]
    },
    {
      "cell_type": "code",
      "metadata": {
        "colab": {
          "base_uri": "https://localhost:8080/"
        },
        "id": "B6MiFRSExaKz",
        "outputId": "12b6a097-9bd4-4e9a-af57-9d36e8f6f0f1"
      },
      "source": [
        "!ls /content/drive/MyDrive/outputAll/ | wc -l"
      ],
      "execution_count": null,
      "outputs": [
        {
          "output_type": "stream",
          "text": [
            "6\n"
          ],
          "name": "stdout"
        }
      ]
    }
  ]
}